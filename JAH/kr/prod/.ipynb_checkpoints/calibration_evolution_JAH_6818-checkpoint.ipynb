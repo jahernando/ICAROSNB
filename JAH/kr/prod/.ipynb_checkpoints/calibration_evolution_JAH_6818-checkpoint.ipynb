{
 "cells": [
  {
   "cell_type": "markdown",
   "metadata": {},
   "source": [
    "# correction time evolution\n",
    "### JAH 4/8/18"
   ]
  },
  {
   "cell_type": "markdown",
   "metadata": {},
   "source": [
    "<i>\n",
    "This notebook studies the corrections (lifetime map and escale) evolution along time for a given run.\n",
    "\n",
    "It can produce a movie (gif) for the escale and lifetime map evolutions (but it needs a plots folder and the imageio module, uncomment the include of movie_functions).\n",
    "</i>"
   ]
  },
  {
   "cell_type": "code",
   "execution_count": null,
   "metadata": {},
   "outputs": [],
   "source": [
    "import time\n",
    "print(\"Last updated on \", time.asctime())"
   ]
  },
  {
   "cell_type": "code",
   "execution_count": null,
   "metadata": {},
   "outputs": [],
   "source": [
    "%matplotlib inline\n",
    "%load_ext autoreload\n",
    "%autoreload 2"
   ]
  },
  {
   "cell_type": "markdown",
   "metadata": {},
   "source": [
    "### Notebook configuration"
   ]
  },
  {
   "cell_type": "code",
   "execution_count": null,
   "metadata": {
    "scrolled": true
   },
   "outputs": [],
   "source": [
    "run_number                 = 6818\n",
    "input_dst_filenames        = [f\"$IC_DATA/{run_number}/kdsts/kdst_{run_number}_filtered.h5\"]\n",
    "#                              f\"$IC_DATA/dsts/kdst_{run_number}_1_filtered.h5\",\n",
    "#                              f\"$IC_DATA/dsts/kdst_{run_number}_2_filtered.h5\",\n",
    "#                              f\"$IC_DATA/dsts/kdst_{run_number}_3_filtered.h5\"\n",
    "#                             ]\n",
    "\n",
    "# bootstrap correction\n",
    "run_number_correction      = run_number\n",
    "correction_filename        = f\"$IC_DATA/maps/kr_corrections_run{run_number_correction}.h5\"\n",
    "\n",
    "apply_geocorrection = True\n",
    "delta_time          = 2.   # map every hour\n",
    "make_movie          = False\n",
    "\n",
    "Rrange  =    0., 180.\n",
    "Zrange  =    0., 550.\n",
    "XYrange = -200., 200.\n",
    "E0range = 7.5e3, 13.5e3\n",
    "LTrange = 2.5e3,  6.5e3\n",
    "\n",
    "XYnbins_fine =  80\n",
    "XYnbins      =  40\n"
   ]
  },
  {
   "cell_type": "markdown",
   "metadata": {},
   "source": [
    "### Imports"
   ]
  },
  {
   "cell_type": "code",
   "execution_count": null,
   "metadata": {
    "scrolled": true
   },
   "outputs": [],
   "source": [
    "import os\n",
    "import time\n",
    "import datetime\n",
    "\n",
    "import tables            as tb\n",
    "import numpy             as np\n",
    "import matplotlib.pyplot as plt\n",
    "import matplotlib.dates  as md\n",
    "\n",
    "import invisible_cities.core.fit_functions as fitf\n",
    "from invisible_cities.core .core_functions import in_range\n",
    "\n",
    "from krcal.dev.table_info import RunInfo\n",
    "from krcal.dev.table_info import MapInfo\n",
    "\n",
    "import krcal.utils.hst_extend_functions   as hst\n",
    "import krcal.utils.plt_functions          as apt\n",
    "import krcal.utils.kdst_functions         as kdstf\n",
    "#import krcal.utils.movie_functions        as mv\n",
    "import krcal.dev.akr_functions            as akr\n",
    "import krcal.dev.corrections              as corrections"
   ]
  },
  {
   "cell_type": "code",
   "execution_count": null,
   "metadata": {},
   "outputs": [],
   "source": [
    "# Plotting style\n",
    "default_cmap = \"jet\"\n",
    "figure_size  = 10, 8\n",
    "font_size    = 14\n",
    "\n",
    "plt.rcParams[\"figure.figsize\"] =   figure_size\n",
    "plt.rcParams[  \"font.size\"   ] =   font_size"
   ]
  },
  {
   "cell_type": "markdown",
   "metadata": {},
   "source": [
    "### Initialization"
   ]
  },
  {
   "cell_type": "code",
   "execution_count": null,
   "metadata": {
    "scrolled": true
   },
   "outputs": [],
   "source": [
    "input_dst_filenames = [os.path.expandvars(fi) for fi in input_dst_filenames]\n",
    "correction_filename = os.path.expandvars(correction_filename)"
   ]
  },
  {
   "cell_type": "code",
   "execution_count": null,
   "metadata": {},
   "outputs": [],
   "source": [
    "dst = kdstf.load_dsts(input_dst_filenames, \"DST\", \"Events\")"
   ]
  },
  {
   "cell_type": "markdown",
   "metadata": {},
   "source": [
    "## Read data"
   ]
  },
  {
   "cell_type": "code",
   "execution_count": null,
   "metadata": {
    "scrolled": true
   },
   "outputs": [],
   "source": [
    "unique_events = ~dst.event.duplicated()\n",
    "\n",
    "number_of_S2s_full  = np.size         (unique_events)\n",
    "number_of_evts_full = np.count_nonzero(unique_events)\n",
    "\n",
    "print(f\"Total number of S2s   : {number_of_S2s_full} \")\n",
    "print(f\"Total number of events: {number_of_evts_full}\")"
   ]
  },
  {
   "cell_type": "markdown",
   "metadata": {},
   "source": [
    "## Relevant data and corrections"
   ]
  },
  {
   "cell_type": "code",
   "execution_count": null,
   "metadata": {
    "scrolled": true
   },
   "outputs": [],
   "source": [
    "X   = dst.X   .values\n",
    "Y   = dst.Y   .values\n",
    "Z   = dst.Z   .values\n",
    "R   = dst.R   .values\n",
    "Phi = dst.Phi .values\n",
    "S2e = dst.S2e .values\n",
    "S2q = dst.S2q .values\n",
    "T   = dst.time.values\n",
    "TD  = np.array([datetime.datetime.fromtimestamp(itime) for itime in T])\n",
    "TH  = (T - T.min())/3600. # time in hours"
   ]
  },
  {
   "cell_type": "code",
   "execution_count": null,
   "metadata": {},
   "outputs": [],
   "source": [
    "if (apply_geocorrection):\n",
    "    print('Applying geometrical corrections: E, Q')\n",
    "    calibrate = corrections.Calibration(correction_filename)\n",
    "    E, Q = calibrate(X, Y, None, T, S2e, S2q)\n",
    "else:\n",
    "    E, Q = S2e, S2q"
   ]
  },
  {
   "cell_type": "markdown",
   "metadata": {},
   "source": [
    "## Global lifetime"
   ]
  },
  {
   "cell_type": "code",
   "execution_count": null,
   "metadata": {},
   "outputs": [],
   "source": [
    "sel_r = in_range(R, *Rrange)\n",
    "sel_z = in_range(Z, *Zrange)\n",
    "sel   = sel_r & sel_z"
   ]
  },
  {
   "cell_type": "code",
   "execution_count": null,
   "metadata": {},
   "outputs": [],
   "source": [
    "Znbins = 50\n",
    "Enbins, Erange = 50, (6e3, 14e3)"
   ]
  },
  {
   "cell_type": "code",
   "execution_count": null,
   "metadata": {},
   "outputs": [],
   "source": [
    "e0, lt, chi2, ok = akr.lt_lsqfit(Z[sel], E[sel], nbins=Znbins)\n",
    "print('e0, lt  (unbinned)', e0.value, lt.value, ' chi2 ', chi2)"
   ]
  },
  {
   "cell_type": "code",
   "execution_count": null,
   "metadata": {},
   "outputs": [],
   "source": [
    "f = akr.lt(Z[sel], E[sel], Znbins, Zrange, Enbins, Erange, plot = True);\n",
    "print('e0, lt  (binned) ', f.values, 'chi2', f.chi2)"
   ]
  },
  {
   "cell_type": "markdown",
   "metadata": {},
   "source": [
    "## lifetime in R vs time"
   ]
  },
  {
   "cell_type": "code",
   "execution_count": null,
   "metadata": {},
   "outputs": [],
   "source": [
    "Ta = hst.Vaxis((TH.min(), TH.max()), step = delta_time/2.)"
   ]
  },
  {
   "cell_type": "code",
   "execution_count": null,
   "metadata": {
    "scrolled": false
   },
   "outputs": [],
   "source": [
    "Ra = hst.Vaxis((0., 200), nbins = 4)\n",
    "fs = akr.lt_vs_t_vs_v_lsqfit(Z[sel], E[sel], TH[sel], R[sel], Ta.bins, Ra.bins, nbins = 22)\n",
    "apt.plt_lt_vs_t_vs_v(fs, Ra.bins, Ta.centers, 'R')"
   ]
  },
  {
   "cell_type": "code",
   "execution_count": null,
   "metadata": {},
   "outputs": [],
   "source": [
    "Phia = hst.Vaxis( (-np.pi, np.pi), nbins = 4)\n",
    "fs = akr.lt_vs_t_vs_v_lsqfit(Z[sel], E[sel], TH[sel], Phi[sel], Ta.bins, Phia.bins, nbins = 22)\n",
    "apt.plt_lt_vs_t_vs_v(fs, Ra.bins, Ta.centers,'$\\phi$')"
   ]
  },
  {
   "cell_type": "markdown",
   "metadata": {},
   "source": [
    "## Study map in time slices"
   ]
  },
  {
   "cell_type": "code",
   "execution_count": null,
   "metadata": {},
   "outputs": [],
   "source": [
    "XYa = hst.Vaxis( XYrange, nbins = XYnbins_fine)"
   ]
  },
  {
   "cell_type": "code",
   "execution_count": null,
   "metadata": {},
   "outputs": [],
   "source": [
    "xye0, xylt, xychi2, xyok = akr.ltmap_lsqfit(X[sel], Y[sel], Z[sel], S2e[sel], XYa.bins)"
   ]
  },
  {
   "cell_type": "code",
   "execution_count": null,
   "metadata": {},
   "outputs": [],
   "source": [
    "#apt.plt_xymap(XYa.centers, XYa.centers, xychi2    , xyok, Chnbins, Chrange, '$\\chi^2$/ndf')\n",
    "apt.plt_xymap(XYa.centers, XYa.centers, xye0.value, xyok, XYa.nbins, E0range, 'E0 (pes)');\n",
    "apt.plt_xymap(XYa.centers, XYa.centers, xylt.value, xyok, XYa.nbins, LTrange, 'LT ($\\mu$s)');"
   ]
  },
  {
   "cell_type": "code",
   "execution_count": null,
   "metadata": {},
   "outputs": [],
   "source": [
    "Ta  = hst.Vaxis((TH.min(), TH.max()), step = delta_time)\n",
    "XYa = hst.Vaxis( XYrange, XYnbins)"
   ]
  },
  {
   "cell_type": "code",
   "execution_count": null,
   "metadata": {},
   "outputs": [],
   "source": [
    "fs = akr.ltmap_vs_t_lsqfit(X[sel], Y[sel], Z[sel], S2e[sel], TH[sel], XYa.bins, Ta.bins) "
   ]
  },
  {
   "cell_type": "code",
   "execution_count": null,
   "metadata": {},
   "outputs": [],
   "source": [
    "def str_tbin(i):\n",
    "    return 'T ['+str(Ta.bins[i])+', '+str(Ta.bins[i+1])+'] (h)'"
   ]
  },
  {
   "cell_type": "code",
   "execution_count": null,
   "metadata": {},
   "outputs": [],
   "source": [
    "xye0s   = [fi[0] for fi in fs]\n",
    "xylts   = [fi[1] for fi in fs]\n",
    "xychi2s = [fi[2] for fi in fs]\n",
    "xyoks   = [fi[3] for fi in fs]"
   ]
  },
  {
   "cell_type": "code",
   "execution_count": null,
   "metadata": {
    "scrolled": false
   },
   "outputs": [],
   "source": [
    "for i in range(Ta.nbins):\n",
    "    label = 'plots/run'+str(run_number)+'e0'\n",
    "    apt.plt_xymap(XYa.centers, XYa.centers, xye0s[i].value, xyoks[i], XYa.nbins, E0range,\n",
    "                  label='E0 '+str_tbin(i))\n",
    "    if (make_movie):\n",
    "        fig = plt.gcf()\n",
    "        fig.savefig(label+str(i)+'.png')\n",
    "if (make_movie):\n",
    "    mv.movie(label, Ta.nbins)"
   ]
  },
  {
   "cell_type": "code",
   "execution_count": null,
   "metadata": {
    "scrolled": false
   },
   "outputs": [],
   "source": [
    "for i in range(Ta.nbins):\n",
    "    label = 'plots/run'+str(run_number)+'lt'\n",
    "    apt.plt_xymap(XYa.centers, XYa.centers, xylts[i].value, xyoks[i], XYa.nbins, LTrange,\n",
    "                  label='E0 '+str_tbin(i))\n",
    "    if (make_movie):\n",
    "        fig = plt.gcf()\n",
    "        fig.savefig(label+str(i)+'.png')\n",
    "if (make_movie):\n",
    "    mv.movie(label, Ta.nbins)"
   ]
  },
  {
   "cell_type": "markdown",
   "metadata": {},
   "source": [
    "## E0 and LT map evolution"
   ]
  },
  {
   "cell_type": "code",
   "execution_count": null,
   "metadata": {},
   "outputs": [],
   "source": [
    "vals = [akr.xymap_mean_std(xye0i.value, xyoki) for xye0i, xyoki in zip(xye0s, xyoks)]\n",
    "ms, us = [ival[0] for ival in vals], [ival[1] for ival in vals]\n",
    "plt.errorbar(Ta.centers, ms, us, fmt='-*');\n",
    "plt.xlabel('t (h)'); plt.ylabel('e0 (pes)'); plt.title('e0 map evolution');"
   ]
  },
  {
   "cell_type": "code",
   "execution_count": null,
   "metadata": {},
   "outputs": [],
   "source": [
    "vals = [akr.xymap_mean_std(xylti.value, xyoki) for xylti, xyoki in zip(xylts, xyoks)]\n",
    "ms, us = [ival[0] for ival in vals], [ival[1] for ival in vals]\n",
    "plt.errorbar(Ta.centers, ms, us, fmt='-*');\n",
    "plt.xlabel('t (h)'); plt.ylabel('lt ($\\mu$s)'); plt.title('lt map evolution');"
   ]
  },
  {
   "cell_type": "markdown",
   "metadata": {},
   "source": [
    "## Pull evolution respect the first map"
   ]
  },
  {
   "cell_type": "code",
   "execution_count": null,
   "metadata": {},
   "outputs": [],
   "source": [
    "de0s = [akr.xymap_compare(xye0s[i], xye0s[0], xyoks[i], xyoks[0], type = 'pull') for i in range(1, Ta.nbins)]\n",
    "dlts = [akr.xymap_compare(xylts[i], xylts[0], xyoks[i], xyoks[0], type = 'pull') for i in range(1, Ta.nbins)]"
   ]
  },
  {
   "cell_type": "code",
   "execution_count": null,
   "metadata": {},
   "outputs": [],
   "source": [
    "vals = [akr.xymap_mean_std(di[0].value, di[1]) for di in de0s]\n",
    "ms, us = [ival[0] for ival in vals], [ival[1] for ival in vals]\n",
    "plt.errorbar(Ta.centers[1:], ms, us, fmt='-*');\n",
    "plt.xlabel('t (h)'); plt.ylabel('pull'); plt.title('e0 pull evolution'); "
   ]
  },
  {
   "cell_type": "code",
   "execution_count": null,
   "metadata": {},
   "outputs": [],
   "source": [
    "vals = [akr.xymap_mean_std(di[0].value, di[1]) for di in dlts]\n",
    "ms, us = [ival[0] for ival in vals], [ival[1] for ival in vals]\n",
    "plt.errorbar(Ta.centers[1:], ms, us, fmt='-*');\n",
    "plt.xlabel('t (h)'); plt.ylabel('pull'); plt.title('lt pull evolution'); "
   ]
  },
  {
   "cell_type": "code",
   "execution_count": null,
   "metadata": {},
   "outputs": [],
   "source": [
    "print('Done!')"
   ]
  },
  {
   "cell_type": "code",
   "execution_count": null,
   "metadata": {},
   "outputs": [],
   "source": []
  }
 ],
 "metadata": {
  "kernelspec": {
   "display_name": "Python 3",
   "language": "python",
   "name": "python3"
  },
  "language_info": {
   "codemirror_mode": {
    "name": "ipython",
    "version": 3
   },
   "file_extension": ".py",
   "mimetype": "text/x-python",
   "name": "python",
   "nbconvert_exporter": "python",
   "pygments_lexer": "ipython3",
   "version": "3.6.6"
  }
 },
 "nbformat": 4,
 "nbformat_minor": 2
}
