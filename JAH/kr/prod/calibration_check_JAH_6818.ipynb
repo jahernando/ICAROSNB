{
 "cells": [
  {
   "cell_type": "markdown",
   "metadata": {},
   "source": [
    "# lifetime time calibration checks - read the maps and check the calibration\n",
    "### JAH 4/8/18"
   ]
  },
  {
   "cell_type": "markdown",
   "metadata": {},
   "source": [
    "<i>\n",
    "This NB shows the energy distribution and compute the resolution after corrections. \n",
    "\n",
    "It shows the energy vs X, Y, Z, R, T variables, to check for possible bias. \n",
    "\n",
    "It shows the energy resolution in a XY plane for different z-slices to check for bias.\n",
    "\n",
    "It makes a movie of the geometry and energy resolution vs z-slices (it need a plot folder and the imageio module)\n",
    "</i>"
   ]
  },
  {
   "cell_type": "code",
   "execution_count": null,
   "metadata": {},
   "outputs": [],
   "source": [
    "import time\n",
    "print(\"Last updated on \", time.asctime())"
   ]
  },
  {
   "cell_type": "code",
   "execution_count": null,
   "metadata": {},
   "outputs": [],
   "source": [
    "%matplotlib inline\n",
    "%load_ext autoreload\n",
    "%autoreload 2"
   ]
  },
  {
   "cell_type": "markdown",
   "metadata": {},
   "source": [
    "### Notebook configuration"
   ]
  },
  {
   "cell_type": "code",
   "execution_count": null,
   "metadata": {
    "scrolled": true
   },
   "outputs": [],
   "source": [
    "run_number                 = 6818\n",
    "input_dst_filenames        = [f\"$IC_DATA/{run_number}/kdsts/kdst_{run_number}_filtered.h5\"]\n",
    "run_number_correction      = run_number\n",
    "correction_filename        = f\"$IC_DATA/maps/kr_corrections_run{run_number_correction}.h5\"\n",
    "\n",
    "make_movie = False\n",
    "\n",
    "Rrange  =    0., 200.\n",
    "Zrange  =    0., 550.\n",
    "XYrange = -200., 200.\n",
    "E0range = 7.5e3, 13.5e3\n",
    "\n",
    "Rfidrange  =    0., 150.\n",
    "Zfidrange  =    0., 250.\n",
    "\n",
    "XYnbins = 80"
   ]
  },
  {
   "cell_type": "markdown",
   "metadata": {},
   "source": [
    "### Imports"
   ]
  },
  {
   "cell_type": "code",
   "execution_count": null,
   "metadata": {
    "scrolled": true
   },
   "outputs": [],
   "source": [
    "import os\n",
    "import time\n",
    "import datetime\n",
    "\n",
    "import tables            as tb\n",
    "import numpy             as np\n",
    "import matplotlib.pyplot as plt\n",
    "\n",
    "import invisible_cities.core.fit_functions as fitf\n",
    "\n",
    "from  invisible_cities.core .core_functions import in_range\n",
    "\n",
    "from krcal.dev.table_info import RunInfo\n",
    "from krcal.dev.table_info import MapInfo\n",
    "\n",
    "import krcal.utils.hst_extend_functions as hst\n",
    "import krcal.dev.akr_functions          as akr\n",
    "import krcal.utils.plt_functions        as apt\n",
    "import krcal.utils.kdst_functions       as kdstf\n",
    "import krcal.dev.corrections            as corrections\n",
    "\n",
    "#import krcal.utils.movie_functions      as mv"
   ]
  },
  {
   "cell_type": "code",
   "execution_count": null,
   "metadata": {},
   "outputs": [],
   "source": [
    "# Plotting style\n",
    "default_cmap = \"jet\"\n",
    "figure_size  = 10, 8\n",
    "font_size    = 14\n",
    "\n",
    "plt.rcParams[\"figure.figsize\"] =   figure_size\n",
    "plt.rcParams[  \"font.size\"   ] =   font_size"
   ]
  },
  {
   "cell_type": "markdown",
   "metadata": {},
   "source": [
    "### Initialization"
   ]
  },
  {
   "cell_type": "code",
   "execution_count": null,
   "metadata": {
    "scrolled": true
   },
   "outputs": [],
   "source": [
    "input_dst_filenames = [os.path.expandvars(fi) for fi in input_dst_filenames]\n",
    "correction_filename =  os.path.expandvars(correction_filename)"
   ]
  },
  {
   "cell_type": "code",
   "execution_count": null,
   "metadata": {},
   "outputs": [],
   "source": [
    "dst = kdstf.load_dsts(input_dst_filenames, \"DST\", \"Events\")"
   ]
  },
  {
   "cell_type": "markdown",
   "metadata": {},
   "source": [
    "## Read data"
   ]
  },
  {
   "cell_type": "code",
   "execution_count": null,
   "metadata": {
    "scrolled": true
   },
   "outputs": [],
   "source": [
    "unique_events = ~dst.event.duplicated()\n",
    "\n",
    "number_of_S2s_full  = np.size         (unique_events)\n",
    "number_of_evts_full = np.count_nonzero(unique_events)\n",
    "\n",
    "print(f\"Total number of S2s   : {number_of_S2s_full} \")\n",
    "print(f\"Total number of events: {number_of_evts_full}\")"
   ]
  },
  {
   "cell_type": "markdown",
   "metadata": {},
   "source": [
    "## Relevant data and corrections"
   ]
  },
  {
   "cell_type": "code",
   "execution_count": null,
   "metadata": {
    "scrolled": true
   },
   "outputs": [],
   "source": [
    "X   = dst.X   .values\n",
    "Y   = dst.Y   .values\n",
    "Z   = dst.Z   .values\n",
    "R   = dst.R   .values\n",
    "Phi = dst.Phi .values\n",
    "S2e = dst.S2e .values\n",
    "S2q = dst.S2q .values\n",
    "T   = dst.time.values\n",
    "TD  = np.array([datetime.datetime.fromtimestamp(itime) for itime in T])\n",
    "TH  = (T - T.min())/3600. # time in hours"
   ]
  },
  {
   "cell_type": "code",
   "execution_count": null,
   "metadata": {},
   "outputs": [],
   "source": [
    "calibrate = corrections.Calibration(correction_filename, 'scale')\n",
    "E, Q = calibrate(X, Y, Z, T, S2e, S2q)"
   ]
  },
  {
   "cell_type": "markdown",
   "metadata": {},
   "source": [
    "### selections"
   ]
  },
  {
   "cell_type": "code",
   "execution_count": null,
   "metadata": {},
   "outputs": [],
   "source": [
    "sel_r = in_range(R, *Rrange)\n",
    "sel_z = in_range(Z, *Zrange)\n",
    "sel   = sel_r & sel_z\n",
    "\n",
    "sel_rfid = in_range(R, *Rfidrange)\n",
    "sel_zfid = in_range(Z, *Zfidrange)\n",
    "sel_fid  = sel_rfid & sel_zfid"
   ]
  },
  {
   "cell_type": "markdown",
   "metadata": {},
   "source": [
    "## Energy resolution"
   ]
  },
  {
   "cell_type": "code",
   "execution_count": null,
   "metadata": {},
   "outputs": [],
   "source": [
    "Ea = hst.Vaxis((8.0e3, 11.e3), 100)"
   ]
  },
  {
   "cell_type": "code",
   "execution_count": null,
   "metadata": {},
   "outputs": [],
   "source": [
    "apt.plt_energy(E[sel]    , Ea.bins, 'R < 200, Z < 550, resolution ')\n",
    "apt.plt_energy(E[sel_fid], Ea.bins, 'R < 150, z < 250, resolution ')"
   ]
  },
  {
   "cell_type": "code",
   "execution_count": null,
   "metadata": {},
   "outputs": [],
   "source": [
    "Ra = hst.Vaxis( (0., 201), step = 50)\n",
    "Za = hst.Vaxis( (0., 551), step = 50 )\n",
    "apt.plt_eresolution_zr(E, R, Z, Ea.nbins, Ea.range, Ra.bins, Za.bins)"
   ]
  },
  {
   "cell_type": "markdown",
   "metadata": {},
   "source": [
    "## Dependencies of the Energy vs other variables"
   ]
  },
  {
   "cell_type": "code",
   "execution_count": null,
   "metadata": {
    "scrolled": false
   },
   "outputs": [],
   "source": [
    "nbins  = 60\n",
    "Trange = (T.min(), T.max())\n",
    "apt.plt_v_vs_u(E[sel], T[sel], Ea.nbins, nbins, Ea.range, Trange , 'E', 'T')\n",
    "apt.plt_v_vs_u(E[sel], Z[sel], Ea.nbins, nbins, Ea.range, Zrange , 'E', 'Z')\n",
    "apt.plt_v_vs_u(E[sel], X[sel], Ea.nbins, nbins, Ea.range, XYrange, 'E', 'X')\n",
    "apt.plt_v_vs_u(E[sel], Y[sel], Ea.nbins, nbins, Ea.range, XYrange, 'E', 'Y')\n",
    "apt.plt_v_vs_u(E[sel], R[sel], Ea.nbins, nbins, Ea.range, Rrange , 'E', 'R');"
   ]
  },
  {
   "cell_type": "markdown",
   "metadata": {},
   "source": [
    "## Energy vs XY"
   ]
  },
  {
   "cell_type": "code",
   "execution_count": null,
   "metadata": {},
   "outputs": [],
   "source": [
    "XYa = hst.Vaxis(XYrange, XYnbins)\n",
    "E0 = np.mean(E[sel])\n",
    "x, y, ee, uee = fitf.profileXY(X[sel], Y[sel], E[sel], XYnbins, XYnbins, \n",
    "                               xrange=XYrange, yrange=XYrange, std = True)\n",
    "ok = ee > 0 "
   ]
  },
  {
   "cell_type": "code",
   "execution_count": null,
   "metadata": {},
   "outputs": [],
   "source": [
    "rat = 4. # per cent\n",
    "Grange = (100.-rat, 100+rat)\n",
    "Frange = (4., 7.)"
   ]
  },
  {
   "cell_type": "code",
   "execution_count": null,
   "metadata": {},
   "outputs": [],
   "source": [
    "apt.plt_xymap(XYa.centers, XYa.centers, 100*ee/E0 , ok, Ea.nbins, Grange, 'geo escale (%)');"
   ]
  },
  {
   "cell_type": "code",
   "execution_count": null,
   "metadata": {},
   "outputs": [],
   "source": [
    "apt.plt_xymap(XYa.centers, XYa.centers, 100*2.355*uee/E0, ok, Ea.nbins, Frange, 'FWHM (%)');"
   ]
  },
  {
   "cell_type": "markdown",
   "metadata": {},
   "source": [
    "## Energy scale and resolution vs XY in Z-slices"
   ]
  },
  {
   "cell_type": "code",
   "execution_count": null,
   "metadata": {},
   "outputs": [],
   "source": [
    "vs, vus, voks = akr.xymap_vprofile_zslice(E[sel], X[sel], Y[sel], Z[sel], Za.bins, XYnbins, XYrange)"
   ]
  },
  {
   "cell_type": "code",
   "execution_count": null,
   "metadata": {
    "scrolled": false
   },
   "outputs": [],
   "source": [
    "rat = 4. # per cent\n",
    "Grange = (100.-rat, 100+rat)\n",
    "label = 'plots/run'+str(run_number)+'geo'\n",
    "for i in range(Za.nbins):\n",
    "    apt.plt_xymap(XYa.centers, XYa.centers, 100*vs[i]/E0, voks[i], Ea.nbins, Grange, 'geo escale')\n",
    "    if (make_movie):\n",
    "        fig = plt.gcf()\n",
    "        fig.savefig(label+str(i)+'.png')\n",
    "if (make_movie):\n",
    "    mv.movie(label, Za.nbins)"
   ]
  },
  {
   "cell_type": "code",
   "execution_count": null,
   "metadata": {
    "scrolled": false
   },
   "outputs": [],
   "source": [
    "Frange = (3., 9)\n",
    "label = 'plots/run'+str(run_number)+'eres'\n",
    "for i in range(Za.nbins):\n",
    "    apt.plt_xymap(XYa.centers, XYa.centers, 100*2.355*vus[i]/E0, voks[i], Ea.nbins, Frange, 'FWHM %')\n",
    "    if (make_movie):\n",
    "        fig = plt.gcf()\n",
    "        fig.savefig(label+str(i)+'.png')\n",
    "if (make_movie):\n",
    "    mv.movie(label, Za.nbins)"
   ]
  },
  {
   "cell_type": "code",
   "execution_count": null,
   "metadata": {},
   "outputs": [],
   "source": [
    "vals = [akr.xymap_mean_std(100.*vi/E0, viok) for vi, viok in zip(vs, voks)]\n",
    "ms, us = [ival[0] for ival in vals], [ival[1] for ival in vals]\n",
    "plt.errorbar(Za.centers, ms, us, fmt='-*');\n",
    "plt.xlabel('Z (mm)'); plt.ylabel('Geo factor (%)'); plt.title('Geo factor');"
   ]
  },
  {
   "cell_type": "code",
   "execution_count": null,
   "metadata": {},
   "outputs": [],
   "source": [
    "vals = [akr.xymap_mean_std(100.*2.355*vi/E0, viok) for vi, viok in zip(vus, voks)]\n",
    "ms, us = [ival[0] for ival in vals], [ival[1] for ival in vals]\n",
    "plt.errorbar(Za.centers, ms, us, fmt='-*');\n",
    "plt.xlabel('Z (mm)'); plt.ylabel('resolution (%)'); plt.title('resolution');"
   ]
  },
  {
   "cell_type": "code",
   "execution_count": null,
   "metadata": {},
   "outputs": [],
   "source": [
    "print('Done!')"
   ]
  },
  {
   "cell_type": "code",
   "execution_count": null,
   "metadata": {},
   "outputs": [],
   "source": []
  }
 ],
 "metadata": {
  "kernelspec": {
   "display_name": "Python 3",
   "language": "python",
   "name": "python3"
  },
  "language_info": {
   "codemirror_mode": {
    "name": "ipython",
    "version": 3
   },
   "file_extension": ".py",
   "mimetype": "text/x-python",
   "name": "python",
   "nbconvert_exporter": "python",
   "pygments_lexer": "ipython3",
   "version": "3.6.6"
  }
 },
 "nbformat": 4,
 "nbformat_minor": 2
}
