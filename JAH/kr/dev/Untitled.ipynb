{
 "cells": [
  {
   "cell_type": "markdown",
   "metadata": {},
   "source": [
    "# Add kdsts into one\n",
    "JAH 14/01/18"
   ]
  },
  {
   "cell_type": "code",
   "execution_count": 1,
   "metadata": {},
   "outputs": [
    {
     "name": "stdout",
     "output_type": "stream",
     "text": [
      "Last updated on  Mon Jan 14 12:41:13 2019\n"
     ]
    }
   ],
   "source": [
    "import time\n",
    "print(\"Last updated on \", time.asctime())"
   ]
  },
  {
   "cell_type": "code",
   "execution_count": null,
   "metadata": {},
   "outputs": [],
   "source": [
    "%matplotlib inline\n",
    "%load_ext autoreload\n",
    "%autoreload 2"
   ]
  },
  {
   "cell_type": "code",
   "execution_count": null,
   "metadata": {},
   "outputs": [],
   "source": [
    "import os\n",
    "\n",
    "import tables            as tb\n",
    "import numpy             as np\n",
    "\n",
    "import invisible_cities.core.fit_functions as fitf\n",
    "\n",
    "from invisible_cities.core .core_functions import in_range\n",
    "from   invisible_cities.evm  .ic_containers  import Measurement\n",
    "\n",
    "from krcal.dev.table_info import RunInfo\n",
    "from krcal.dev.table_info import MapInfo\n",
    "\n",
    "import krcal.dev.akr_functions          as akr\n",
    "import krcal.utils.hst_extend_functions as hst\n",
    "import krcal.utils.plt_functions        as apt\n",
    "import krcal.utils.kdst_functions       as kdstf"
   ]
  },
  {
   "cell_type": "code",
   "execution_count": null,
   "metadata": {},
   "outputs": [],
   "source": [
    "run_number      = 6206\n",
    "file_range      = range(0, 1000)\n",
    "file_number     = [ for ifile in file_range]\n",
    "kdst_filenames  = [f\"$IC_DATA/dsts/kdst_{run_number}_{file_number}_filtered.h5\" for file_number in file_numbers]"
   ]
  },
  {
   "cell_type": "code",
   "execution_count": null,
   "metadata": {},
   "outputs": [],
   "source": [
    "input_dst_filenames = [os.path.expandvars(fi) for fi in kdst_filenames]"
   ]
  },
  {
   "cell_type": "code",
   "execution_count": null,
   "metadata": {},
   "outputs": [],
   "source": [
    "dst = kdstf.load_dsts(input_dst_filenames, \"DST\", \"Events\")"
   ]
  }
 ],
 "metadata": {
  "kernelspec": {
   "display_name": "Python 3",
   "language": "python",
   "name": "python3"
  },
  "language_info": {
   "codemirror_mode": {
    "name": "ipython",
    "version": 3
   },
   "file_extension": ".py",
   "mimetype": "text/x-python",
   "name": "python",
   "nbconvert_exporter": "python",
   "pygments_lexer": "ipython3",
   "version": "3.6.6"
  }
 },
 "nbformat": 4,
 "nbformat_minor": 2
}
