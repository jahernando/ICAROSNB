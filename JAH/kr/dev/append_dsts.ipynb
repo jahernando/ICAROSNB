{
 "cells": [
  {
   "cell_type": "markdown",
   "metadata": {},
   "source": [
    "# Add kdsts into one\n",
    "JAH 14/01/19"
   ]
  },
  {
   "cell_type": "code",
   "execution_count": 1,
   "metadata": {},
   "outputs": [
    {
     "name": "stdout",
     "output_type": "stream",
     "text": [
      "Last updated on  Mon Jan 14 16:01:52 2019\n"
     ]
    }
   ],
   "source": [
    "import time\n",
    "print(\"Last updated on \", time.asctime())"
   ]
  },
  {
   "cell_type": "code",
   "execution_count": 2,
   "metadata": {},
   "outputs": [],
   "source": [
    "%matplotlib inline\n",
    "%load_ext autoreload\n",
    "%autoreload 2"
   ]
  },
  {
   "cell_type": "code",
   "execution_count": 3,
   "metadata": {},
   "outputs": [],
   "source": [
    "import os\n",
    "\n",
    "import tables            as tb\n",
    "import numpy             as np\n",
    "\n",
    "import invisible_cities.core.fit_functions as fitf\n",
    "\n",
    "from invisible_cities.core .core_functions import in_range\n",
    "from   invisible_cities.evm  .ic_containers  import Measurement\n",
    "\n",
    "from krcal.dev.table_info import RunInfo\n",
    "from krcal.dev.table_info import MapInfo\n",
    "\n",
    "import krcal.dev.akr_functions          as akr\n",
    "import krcal.utils.hst_extend_functions as hst\n",
    "import krcal.utils.plt_functions        as apt\n",
    "import krcal.utils.kdst_functions       as kdstf"
   ]
  },
  {
   "cell_type": "code",
   "execution_count": 8,
   "metadata": {},
   "outputs": [],
   "source": [
    "run_number      = 6663\n",
    "file_range      = 0, 1331\n",
    "tag             = \"trigger1_v0.9.9_20190111_krth\"\n",
    "output_dst_filename   = f\"$ICDATADIR/{run_number}/kdsts/kdst_{run_number}_{tag}.h5\"\n",
    "\n",
    "\n",
    "file_numbers  = [\"{:04}\".format(i) for i in range(*file_range)]\n",
    "kdst_filenames  = [f\"$IC_DATA/{run_number}/kdsts/kdst_{file_number}_{run_number}_{tag}.h5\" for file_number in file_numbers]"
   ]
  },
  {
   "cell_type": "code",
   "execution_count": 9,
   "metadata": {},
   "outputs": [],
   "source": [
    "input_kdst_filenames = [os.path.expandvars(fi) for fi in kdst_filenames]"
   ]
  },
  {
   "cell_type": "code",
   "execution_count": 10,
   "metadata": {},
   "outputs": [],
   "source": [
    "dst = kdstf.load_dsts(input_kdst_filenames, \"DST\", \"Events\")"
   ]
  },
  {
   "cell_type": "code",
   "execution_count": 11,
   "metadata": {},
   "outputs": [
    {
     "name": "stdout",
     "output_type": "stream",
     "text": [
      "writing filtered dst  /Users/hernando/investigacion/NEXT/data/runIV//6663/kdsts/kdst_6663_trigger1_v0.9.9_20190111_krth.h5\n"
     ]
    }
   ],
   "source": [
    "output_dst_filename = os.path.expandvars(output_dst_filename)\n",
    "print('writing filtered dst ', output_dst_filename)\n",
    "kdstf.kdst_write(dst, output_dst_filename);"
   ]
  },
  {
   "cell_type": "code",
   "execution_count": null,
   "metadata": {},
   "outputs": [],
   "source": []
  }
 ],
 "metadata": {
  "kernelspec": {
   "display_name": "Python 3",
   "language": "python",
   "name": "python3"
  },
  "language_info": {
   "codemirror_mode": {
    "name": "ipython",
    "version": 3
   },
   "file_extension": ".py",
   "mimetype": "text/x-python",
   "name": "python",
   "nbconvert_exporter": "python",
   "pygments_lexer": "ipython3",
   "version": "3.6.6"
  }
 },
 "nbformat": 4,
 "nbformat_minor": 2
}
