{
 "cells": [
  {
   "cell_type": "markdown",
   "metadata": {},
   "source": [
    "# Compare Kr selections for two runs\n",
    "\n",
    "J.A Hernando\n",
    "22/01/19"
   ]
  },
  {
   "cell_type": "code",
   "execution_count": 1,
   "metadata": {},
   "outputs": [
    {
     "name": "stdout",
     "output_type": "stream",
     "text": [
      "Last updated on  Tue Jan 22 19:36:02 2019\n"
     ]
    }
   ],
   "source": [
    "import time\n",
    "print(\"Last updated on \", time.asctime())"
   ]
  },
  {
   "cell_type": "markdown",
   "metadata": {},
   "source": [
    "### Configuration"
   ]
  },
  {
   "cell_type": "code",
   "execution_count": 2,
   "metadata": {},
   "outputs": [],
   "source": [
    "run_number_ref   = 6590 \n",
    "run_number_test  = 6600 \n",
    "\n",
    "input_dst_filename_ref   = f\"$IC_DATA/{run_number_ref}/kdsts/kdst_{run_number_ref}_filtered.h5\"\n",
    "input_dst_filename_test  = f\"$IC_DATA/{run_number_test}/kdsts/kdst_{run_number_test}_filtered.h5\""
   ]
  },
  {
   "cell_type": "markdown",
   "metadata": {},
   "source": [
    "### Imports"
   ]
  },
  {
   "cell_type": "code",
   "execution_count": 3,
   "metadata": {},
   "outputs": [],
   "source": [
    "import os\n",
    "import time\n",
    "import datetime\n",
    "\n",
    "import tables            as tb\n",
    "import numpy             as np\n",
    "import matplotlib.pyplot as plt\n",
    "import matplotlib.dates  as md\n",
    "\n",
    "import invisible_cities.core.fit_functions as fitf\n",
    "\n",
    "from invisible_cities.core .core_functions import in_range\n",
    "\n",
    "from krcal.dev.table_info import RunInfo\n",
    "from krcal.dev.table_info import MapInfo\n",
    "\n",
    "import krcal.utils.hst_extend_functions as hst\n",
    "import krcal.utils.plt_functions        as apt\n",
    "import krcal.utils.kdst_functions       as kdstf\n",
    "import krcal.dev.akr_functions          as akr\n",
    "import krcal.dev.corrections            as corrections"
   ]
  },
  {
   "cell_type": "code",
   "execution_count": 4,
   "metadata": {},
   "outputs": [],
   "source": [
    "# Plotting style\n",
    "default_cmap = \"jet\"\n",
    "figure_size  = 10, 8\n",
    "font_size    = 14\n",
    "\n",
    "plt.rcParams[\"figure.figsize\"] =   figure_size\n",
    "plt.rcParams[  \"font.size\"   ] =   font_size"
   ]
  },
  {
   "cell_type": "code",
   "execution_count": 5,
   "metadata": {},
   "outputs": [
    {
     "name": "stdout",
     "output_type": "stream",
     "text": [
      "/Users/hernando/investigacion/NEXT/data/runIV//6590/kdsts/kdst_6590_filtered.h5\n",
      "/Users/hernando/investigacion/NEXT/data/runIV//6600/kdsts/kdst_6600_filtered.h5\n"
     ]
    }
   ],
   "source": [
    "_input_dst = os.path.expandvars(input_dst_filename_ref)\n",
    "print(_input_dst)\n",
    "dst_ref    = kdstf.load_dsts([_input_dst, ], \"DST\", \"Events\")\n",
    "\n",
    "_input_dst = os.path.expandvars(input_dst_filename_test)\n",
    "print(_input_dst)\n",
    "dst_test   = kdstf.load_dsts([_input_dst, ], \"DST\", \"Events\")\n",
    "\n",
    "dsts = [dst_ref, dst_test]"
   ]
  },
  {
   "cell_type": "code",
   "execution_count": 6,
   "metadata": {},
   "outputs": [
    {
     "name": "stdout",
     "output_type": "stream",
     "text": [
      "seconds 64784.609999895096 66306.57700014114\n"
     ]
    }
   ],
   "source": [
    "seconds_ref  = (dst_ref .time.max() - dst_ref .time.min()) \n",
    "seconds_test = (dst_test.time.max() - dst_test.time.min()) \n",
    "\n",
    "print('seconds', seconds_ref, seconds_test)\n",
    "\n",
    "weight_ref  = 1./seconds_ref\n",
    "weight_test = 1./seconds_test\n",
    "\n",
    "weights = [weight_ref, weight_test]"
   ]
  },
  {
   "cell_type": "code",
   "execution_count": 7,
   "metadata": {},
   "outputs": [
    {
     "data": {
      "text/plain": [
       "Index(['index', 'event', 'time', 's1_peak', 's2_peak', 'nS1', 'nS2', 'S1w',\n",
       "       'S1h', 'S1e', 'S1t', 'S2w', 'S2h', 'S2e', 'S2q', 'S2t', 'Nsipm', 'DT',\n",
       "       'Z', 'Zrms', 'X', 'Y', 'R', 'Phi', 'Xrms', 'Yrms'],\n",
       "      dtype='object')"
      ]
     },
     "execution_count": 7,
     "metadata": {},
     "output_type": "execute_result"
    }
   ],
   "source": [
    "dst_ref.columns"
   ]
  },
  {
   "cell_type": "code",
   "execution_count": 8,
   "metadata": {},
   "outputs": [],
   "source": [
    "def slabel(mean, rms, sformat=\"{0:2.1f}\"):\n",
    "    s =  'mean:'+ sformat.format(mean)+ ', '\n",
    "    s += 'rms :'+ sformat.format(rms)\n",
    "    return s\n",
    "\n",
    "def hist(varname, varaxis, dst, weight):\n",
    "    var = dst[varname].values\n",
    "    v0, v1 = varaxis.range\n",
    "    sel = in_range(var, v0, v1)\n",
    "    xvar = var[sel]\n",
    "    mean, rms = np.mean(xvar), np.std(xvar)\n",
    "    weights = np.ones(len(xvar))*weight\n",
    "    ycon, xedg, _ = plt.hist(xvar, varaxis.bins, weights = weights, label = slabel(mean, rms), alpha = 0.5);\n",
    "    plt.xlabel(varname)\n",
    "    plt.ylabel('rate (Hz)')\n",
    "    plt.legend()\n",
    "    return ycon, xedg\n",
    "    \n",
    "\n",
    "def hist_comp(varname, varaxis, dsts, weights):\n",
    "    c = hst.Canvas(1, 2)\n",
    "    c(1)\n",
    "    y1, x1 = hist(varname, varaxis, dsts[0], weights[0])\n",
    "    y2, x2 = hist(varname, varaxis, dsts[1], weights[1])\n",
    "    \n",
    "    sel = y2 > 0\n",
    "    rat = np.zeros(len(y1))\n",
    "    rat[sel] = y2[sel]/y1[sel]\n",
    "    c(2)\n",
    "    xx = 0.5*(x1[1:] + x1[:-1])\n",
    "    plt.plot(xx, rat, '*')\n",
    "    plt.xlabel(varname)\n",
    "    plt.ylabel('ratio')\n",
    "    ylim = min(2., max(rat)+0.1)\n",
    "    plt.ylim((0., ylim))\n",
    "    plt.tight_layout()\n",
    "    #plt.legend()\n",
    "    return\n"
   ]
  },
  {
   "cell_type": "code",
   "execution_count": 9,
   "metadata": {
    "scrolled": false
   },
   "outputs": [
    {
     "name": "stderr",
     "output_type": "stream",
     "text": [
      "/Users/hernando/miniconda/envs/IC-3.6-2018-08-29/lib/python3.6/site-packages/matplotlib/cbook/deprecation.py:107: MatplotlibDeprecationWarning: Adding an axes using the same arguments as a previous axes currently reuses the earlier instance.  In a future version, a new instance will always be created and returned.  Meanwhile, this warning can be suppressed, and the future behavior ensured, by passing a unique label to each axes instance.\n",
      "  warnings.warn(message, mplDeprecation, stacklevel=1)\n"
     ]
    },
    {
     "data": {
      "image/png": "[encoded data removed]",
      "text/plain": [
       "<Figure size 892.8x388.8 with 2 Axes>"
      ]
     },
     "metadata": {
      "needs_background": "light"
     },
     "output_type": "display_data"
    }
   ],
   "source": [
    "zaxis = hst.Vaxis((-10., 600.), 100)\n",
    "hist_comp('Z', zaxis, dsts, weights)"
   ]
  },
  {
   "cell_type": "code",
   "execution_count": null,
   "metadata": {
    "scrolled": false
   },
   "outputs": [
    {
     "name": "stderr",
     "output_type": "stream",
     "text": [
      "/Users/hernando/miniconda/envs/IC-3.6-2018-08-29/lib/python3.6/site-packages/matplotlib/cbook/deprecation.py:107: MatplotlibDeprecationWarning: Adding an axes using the same arguments as a previous axes currently reuses the earlier instance.  In a future version, a new instance will always be created and returned.  Meanwhile, this warning can be suppressed, and the future behavior ensured, by passing a unique label to each axes instance.\n",
      "  warnings.warn(message, mplDeprecation, stacklevel=1)\n"
     ]
    }
   ],
   "source": [
    "vd = {}\n",
    "vd['X']   = -220., 220.\n",
    "vd['Y']   = -220., 200.\n",
    "vd['Z']   =  -10., 600.\n",
    "vd['R']   =   -0., 220.\n",
    "\n",
    "vd['S1e'] =    0., 40.\n",
    "vd['S2e'] =  5.e3, 14.e3\n",
    "vd['S2q'] =  1.e2, 8.e2\n",
    "vd['Nsipm'] = 0., 40\n",
    "\n",
    "\n",
    "for key in vd.keys():\n",
    "    axis = hst.Vaxis(vd[key], 50)\n",
    "    hist_comp(key, axis, dsts, weights)"
   ]
  },
  {
   "cell_type": "code",
   "execution_count": null,
   "metadata": {},
   "outputs": [],
   "source": [
    "def hist_compare(dst1, dst2, varname, varaxis, scales):\n",
    "    var1 = dst1[varname].values\n",
    "    v0, v1 = varaxis.range\n",
    "    var1 = in_range(var1, v0, v1)\n",
    "    mean, rms = np.mean(var1), np.rms(var1)\n",
    "    \n",
    "    #var2 = dst2[varname]\n",
    "    \n",
    "    "
   ]
  }
 ],
 "metadata": {
  "kernelspec": {
   "display_name": "Python 3",
   "language": "python",
   "name": "python3"
  },
  "language_info": {
   "codemirror_mode": {
    "name": "ipython",
    "version": 3
   },
   "file_extension": ".py",
   "mimetype": "text/x-python",
   "name": "python",
   "nbconvert_exporter": "python",
   "pygments_lexer": "ipython3",
   "version": "3.6.6"
  }
 },
 "nbformat": 4,
 "nbformat_minor": 2
}
