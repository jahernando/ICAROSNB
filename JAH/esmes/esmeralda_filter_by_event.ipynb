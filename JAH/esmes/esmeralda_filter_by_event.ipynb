{
 "cells": [
  {
   "cell_type": "markdown",
   "metadata": {},
   "source": [
    "# Write out selected esmeralda events\n",
    "\n",
    "## JAH 17/10/19"
   ]
  },
  {
   "cell_type": "code",
   "execution_count": 1,
   "metadata": {},
   "outputs": [
    {
     "name": "stdout",
     "output_type": "stream",
     "text": [
      "Thu Oct 24 20:01:36 2019\n"
     ]
    }
   ],
   "source": [
    "import time\n",
    "print(time.asctime())"
   ]
  },
  {
   "cell_type": "code",
   "execution_count": 2,
   "metadata": {},
   "outputs": [],
   "source": [
    "import numpy             as np\n",
    "import pandas            as pd\n",
    "import tables            as tb\n",
    "import matplotlib.pyplot as plt\n",
    "\n",
    "from glob                import glob"
   ]
  },
  {
   "cell_type": "code",
   "execution_count": 3,
   "metadata": {},
   "outputs": [],
   "source": [
    "from write_selected import read_and_select_events"
   ]
  },
  {
   "cell_type": "code",
   "execution_count": 4,
   "metadata": {},
   "outputs": [
    {
     "name": "stdout",
     "output_type": "stream",
     "text": [
      "[   1331    1351    2563 ... 2771274 2770343 2770425]\n",
      "# of events  3029\n"
     ]
    }
   ],
   "source": [
    "run_number = 7431\n",
    "odir  = f\"/home/hernando/ICAROSNB/JAH/esmes\"\n",
    "ofile = f\"/event_nums_{run_number}_dspsel.npy\"\n",
    "event_list = np.load(odir + ofile)\n",
    "print(event_list)\n",
    "print('# of events ', len(event_list))"
   ]
  },
  {
   "cell_type": "code",
   "execution_count": 5,
   "metadata": {},
   "outputs": [
    {
     "name": "stdout",
     "output_type": "stream",
     "text": [
      "100 /home/jrenner/analysis/7431/hdf5/JJ_maps_100_7430_7433/ntuple/trigger2/ntuple_2120_7431_trigger2_v1.1.0_20190801_bg.h5 /home/jrenner/analysis/7431/hdf5/JJ_maps_100_7430_7433/ntuple/trigger2/ntuple_4244_7431_trigger2_v1.1.0_20190801_bg.h5\n",
      "remove combined tuple from list\n"
     ]
    }
   ],
   "source": [
    "folder_in = f\"/home/jrenner/analysis/{run_number}/hdf5/JJ_maps_100_7430_7433/ntuple/trigger2\"\n",
    "filesin   = glob(folder_in +'/*.h5')[:100]\n",
    "print(len(filesin), filesin[0], filesin[-1])\n",
    "print('remove combined tuple from list')\n",
    "#filesin = filesin[:-1]\n",
    "#print(len(filesin), filesin[0], filesin[-1])"
   ]
  },
  {
   "cell_type": "code",
   "execution_count": 6,
   "metadata": {},
   "outputs": [],
   "source": [
    "events_generator = read_and_select_events(filesin, event_list)"
   ]
  },
  {
   "cell_type": "code",
   "execution_count": 7,
   "metadata": {},
   "outputs": [],
   "source": [
    "evt = next(events_generator)"
   ]
  },
  {
   "cell_type": "code",
   "execution_count": 8,
   "metadata": {},
   "outputs": [
    {
     "name": "stdout",
     "output_type": "stream",
     "text": [
      "dict_keys(['hits', 'hits_paolina', 'tracks', 'summary', 'mc', 'run_number', 'event_number', 'timestamp'])\n"
     ]
    }
   ],
   "source": [
    "print(evt.keys())"
   ]
  },
  {
   "cell_type": "code",
   "execution_count": 9,
   "metadata": {},
   "outputs": [
    {
     "name": "stdout",
     "output_type": "stream",
     "text": [
      "     event           time         S1e       S1t  nS2  ntrks  nhits  \\\n",
      "86  370801  1565360677848  330.792877  746000.0    1      1    178   \n",
      "\n",
      "            S2e0      S2ec          S2q0     ...          z_avg       r_avg  \\\n",
      "86  357293.78125  1.620005  31690.833984     ...      91.907379  158.150105   \n",
      "\n",
      "    x_min  y_min      z_min       r_min  x_max  y_max       z_max       r_max  \n",
      "86  -35.0  125.0  54.527375  125.896783   35.0  185.0  133.719125  186.681547  \n",
      "\n",
      "[1 rows x 23 columns]\n"
     ]
    }
   ],
   "source": [
    "print(evt['summary'])"
   ]
  },
  {
   "cell_type": "code",
   "execution_count": 10,
   "metadata": {},
   "outputs": [
    {
     "name": "stdout",
     "output_type": "stream",
     "text": [
      "      event  trackID    energy      length  numb_of_voxels  numb_of_hits  \\\n",
      "101  370801        0  1.620005  114.387931              50           178   \n",
      "\n",
      "     numb_of_tracks  x_min  y_min      z_min     ...         blob1_z  blob2_x  \\\n",
      "101               1  -35.0  125.0  54.527375     ...      129.492377     35.0   \n",
      "\n",
      "     blob2_y    blob2_z    eblob1    eblob2  ovlp_blob_energy  vox_size_x  \\\n",
      "101    135.0  58.522987  0.284391  0.191852               0.0        10.0   \n",
      "\n",
      "     vox_size_y  vox_size_z  \n",
      "101        10.0        10.0  \n",
      "\n",
      "[1 rows x 35 columns]\n"
     ]
    }
   ],
   "source": [
    "print(evt['tracks'])"
   ]
  },
  {
   "cell_type": "markdown",
   "metadata": {},
   "source": [
    "#### run the script"
   ]
  },
  {
   "cell_type": "code",
   "execution_count": 11,
   "metadata": {},
   "outputs": [],
   "source": [
    "from write_selected import loop_over_files_and_write"
   ]
  },
  {
   "cell_type": "code",
   "execution_count": 12,
   "metadata": {},
   "outputs": [],
   "source": [
    "file_out        =  f\"/home/hernando/ICAROSNB/JAH/esmes/esmeralda_{run_number}_dspsel.h5\"\n",
    "event_nums_file =  f\"/home/hernando/ICAROSNB/JAH/esmes/event_nums_{run_number}_dspsel.npy\"\n",
    "folder_in       =  f\"/home/jrenner/analysis/{run_number}/hdf5/JJ_maps_100_7430_7433/ntuple/trigger2\""
   ]
  },
  {
   "cell_type": "code",
   "execution_count": null,
   "metadata": {},
   "outputs": [
    {
     "name": "stdout",
     "output_type": "stream",
     "text": [
      "# selected events  3029\n",
      "input files        /home/jrenner/analysis/7431/hdf5/JJ_maps_100_7430_7433/ntuple/trigger2/ntuple_2120_7431_trigger2_v1.1.0_20190801_bg.h5 /home/jrenner/analysis/7431/hdf5/JJ_maps_100_7430_7433/ntuple/trigger2/ntuple_8785_7431_trigger2_v1.1.0_20190801_bg.h5\n",
      "output file        /home/hernando/ICAROSNB/JAH/esmes/esmeralda_7431_dspsel.h5\n"
     ]
    }
   ],
   "source": [
    "ok = loop_over_files_and_write(file_out, event_nums_file, folder_in)\n",
    "print(ok)"
   ]
  },
  {
   "cell_type": "code",
   "execution_count": 29,
   "metadata": {},
   "outputs": [
    {
     "name": "stdout",
     "output_type": "stream",
     "text": [
      "input files        /home/jrenner/analysis/7430/hdf5/JJ_maps_100_7430_7433/ntuple/trigger2/ntuple_0000_7430_trigger2_v1.1.0_20190801_bg.h5 /home/jrenner/analysis/7430/hdf5/JJ_maps_100_7430_7433/ntuple/trigger2/ntuple_1014_7430_trigger2_v1.1.0_20190801_bg.h5\n"
     ]
    }
   ],
   "source": [
    "size = -1\n",
    "filesin    = glob(folder_in +'/*.h5')[:size]\n",
    "print('input files       ', filesin[0], filesin[-1])"
   ]
  },
  {
   "cell_type": "code",
   "execution_count": null,
   "metadata": {},
   "outputs": [],
   "source": []
  }
 ],
 "metadata": {
  "kernelspec": {
   "display_name": "Python 3",
   "language": "python",
   "name": "python3"
  },
  "language_info": {
   "codemirror_mode": {
    "name": "ipython",
    "version": 3
   },
   "file_extension": ".py",
   "mimetype": "text/x-python",
   "name": "python",
   "nbconvert_exporter": "python",
   "pygments_lexer": "ipython3",
   "version": "3.7.3"
  }
 },
 "nbformat": 4,
 "nbformat_minor": 2
}
