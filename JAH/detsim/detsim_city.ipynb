{
 "cells": [
  {
   "cell_type": "markdown",
   "metadata": {},
   "source": [
    "# Debug detsim city NB\n",
    "\n",
    "### JAH 12/12/19"
   ]
  },
  {
   "cell_type": "code",
   "execution_count": null,
   "metadata": {},
   "outputs": [],
   "source": [
    "import time\n",
    "\n",
    "%load_ext autoreload\n",
    "%autoreload 2\n",
    "\n",
    "import numpy             as np\n",
    "import scipy             as sc\n",
    "import scipy.stats       as st\n",
    "import tables            as tb\n",
    "\n",
    "from typing    import Callable\n",
    "from typing    import Tuple\n",
    "from typing    import List\n",
    "\n",
    "import invisible_cities.io.mcinfo_io               as mcio\n",
    "import invisible_cities.core    .system_of_units_c as system_of_units\n",
    "import invisible_cities.core    .fit_functions     as fitf\n",
    "import invisible_cities.database.load_db           as db\n",
    "\n",
    "import myhistos                  as ht\n",
    "import detsim.simulation.detsim  as ds\n",
    "\n",
    "units = system_of_units.SystemOfUnits()"
   ]
  },
  {
   "cell_type": "markdown",
   "metadata": {},
   "source": [
    "# Plotting configuration"
   ]
  },
  {
   "cell_type": "code",
   "execution_count": null,
   "metadata": {},
   "outputs": [],
   "source": [
    "%matplotlib inline\n",
    "\n",
    "import matplotlib.pyplot as plt\n",
    "from mpl_toolkits.mplot3d import axes3d\n",
    "np.warnings.filterwarnings('ignore')\n",
    "\n",
    "plt.rcParams[\"figure.figsize\"]          = 5, 4\n",
    "plt.rcParams[\"font.size\"]               = 12\n",
    "plt.rcParams[\"figure.max_open_warning\"] = 100"
   ]
  },
  {
   "cell_type": "markdown",
   "metadata": {},
   "source": [
    "## DetSim"
   ]
  },
  {
   "cell_type": "code",
   "execution_count": null,
   "metadata": {},
   "outputs": [],
   "source": [
    "detector, run_number = 'new', -1\n",
    "detsimparams = ds.DetSimParameters(detector, run_number)\n",
    "#detsimparams.next_detector(db)\n",
    "print(detsimparams.nsipms)"
   ]
  },
  {
   "cell_type": "code",
   "execution_count": null,
   "metadata": {},
   "outputs": [],
   "source": [
    "plt.scatter(detsimparams.x_sipms, detsimparams.y_sipms, s = 1.)\n",
    "plt.xlabel('x (mm)'); plt.ylabel('y (mm)');\n",
    "plt.figure()\n",
    "plt.scatter(detsimparams.x_pmts, detsimparams.y_pmts, s = 1e2)\n",
    "plt.xlabel('x (mm)'); plt.ylabel('y (mm)');"
   ]
  },
  {
   "cell_type": "code",
   "execution_count": null,
   "metadata": {},
   "outputs": [],
   "source": [
    "dsim = detsimparams\n",
    "npmts_bins  = int(dsim.wf_buffer_time // dsim.wf_pmt_bin_time)\n",
    "npmts       = dsim.npmts\n",
    "\n",
    "nsipms_bins = int(dsim.wf_buffer_time // dsim.wf_sipm_bin_time)\n",
    "nsipms      = dsim.nsipms\n",
    "\n",
    "drift_velocity    = dsim.drift_velocity\n",
    "\n",
    "adc_to_pes_pmts   = dsim.adc_to_pes_pmts\n",
    "adc_to_pes_sipms  = dsim.adc_to_pes_sipms"
   ]
  },
  {
   "cell_type": "markdown",
   "metadata": {},
   "source": [
    "## Data"
   ]
  },
  {
   "cell_type": "code",
   "execution_count": null,
   "metadata": {},
   "outputs": [],
   "source": [
    "datadir      = '/Users/hernando/investigacion/NEXT/work/detsim/detsim/test_data/'\n",
    "datafilename = 'neut_full_test.sim.h5'"
   ]
  },
  {
   "cell_type": "code",
   "execution_count": null,
   "metadata": {},
   "outputs": [],
   "source": [
    "def hits_generator():\n",
    "    datahits = mcio.load_mchits_df(datadir + datafilename)\n",
    "    hitsgroup = datahits.groupby('event_id')\n",
    "    print('size ', len(hitsgroup))\n",
    "    for ievt, hitsdf in hitsgroup:\n",
    "        print('event ', ievt)\n",
    "        yield(ievt, hitsdf)"
   ]
  },
  {
   "cell_type": "code",
   "execution_count": null,
   "metadata": {},
   "outputs": [],
   "source": [
    "it = hits_generator()"
   ]
  },
  {
   "cell_type": "code",
   "execution_count": null,
   "metadata": {},
   "outputs": [],
   "source": [
    "evt, hits = next(it)"
   ]
  },
  {
   "cell_type": "code",
   "execution_count": null,
   "metadata": {},
   "outputs": [],
   "source": [
    "xs, ys, zs, enes = ds.get_deposits(hits)\n",
    "print('total energy', np.sum(enes) / units.keV, ' keV');"
   ]
  },
  {
   "cell_type": "code",
   "execution_count": null,
   "metadata": {},
   "outputs": [],
   "source": [
    "ht.graph_event(xs, ys, zs, enes, scale = 1e4)"
   ]
  },
  {
   "cell_type": "markdown",
   "metadata": {},
   "source": [
    "## Generate - drift - diffuse electrons"
   ]
  },
  {
   "cell_type": "code",
   "execution_count": null,
   "metadata": {},
   "outputs": [],
   "source": [
    "nes                 = ds.generate_electrons(enes)\n",
    "nes                 = ds.drift_electrons(zs, nes)\n",
    "dxs, dys, dzs, dnes = ds.diffuse_electrons(xs, ys, zs, nes)"
   ]
  },
  {
   "cell_type": "code",
   "execution_count": null,
   "metadata": {
    "scrolled": false
   },
   "outputs": [],
   "source": [
    "plot = True\n",
    "# generate deposits\n",
    "#xs, ys, zs, enes = ds.generate_deposits(xsigma = 0.4)\n",
    "if (plot):\n",
    "    print('total energy ', np.sum(enes) / units.keV, ' keV')\n",
    "    ht.hist(xs); plt.xlabel('deposits x (mm)')\n",
    "    ht.hist(ys); plt.xlabel('deposits y (mm)')\n",
    "    ht.hist(zs); plt.xlabel('deposits z (mm)')\n",
    "    ht.hist(enes / units.eV); plt.xlabel('deposits energy (eV)')\n",
    "    \n",
    "if (plot):\n",
    "    print('number of secondary elctrons ', np.sum(nes))\n",
    "    ht.hist(nes, 100); plt.xlabel('number of electrons')\n",
    "\n",
    "if (plot):\n",
    "    print('number of drifted electrons ', np.sum(nes));\n",
    "    ht.hist(nes, 100); plt.xlabel('number of drifted electrons')\n",
    "\n",
    "# diffuse electrons\n",
    "dts                 = dzs / detsimparams.drift_velocity\n",
    "if (plot):\n",
    "    print('number of diffused electrons ', np.sum(nes));\n",
    "    print('longitudinal diffusion ', detsimparams.longitudinal_diffusion * np.sqrt(np.mean(zs)))\n",
    "    print('transverse diffusion'   , detsimparams.transverse_diffusion * np.sqrt(np.mean(zs)))\n",
    "    ht.hist(dxs  , 100); plt.xlabel('diffused electrons x (mm)')\n",
    "    ht.hist(dys  , 100); plt.xlabel('diffused electrons y (mm)')\n",
    "    ht.hist(dzs  , 100); plt.xlabel('diffused electrons z (mm)')\n",
    "    ht.hist(dts  , 100); plt.xlabel('diffused electrons time')\n",
    "    ht.hist(dnes , 100); plt.xlabel('diffused electrons')"
   ]
  },
  {
   "cell_type": "code",
   "execution_count": null,
   "metadata": {},
   "outputs": [],
   "source": [
    "#ht.graph_event( xs,  ys,  zs, enes                  , scale = 1e4);\n",
    "ht.graph_event(dxs, dys, dzs, dnes * detsimparams.wi, scale = 1e4);"
   ]
  },
  {
   "cell_type": "code",
   "execution_count": null,
   "metadata": {},
   "outputs": [],
   "source": [
    "dts                 = dzs / drift_velocity\n",
    "s2photons           = ds.generate_s2_photons(dnes)\n",
    "pes_pmts            = ds.estimate_s2_pes_at_pmts (dxs, dys, s2photons)\n",
    "pes_sipms           = ds.estimate_s2_pes_at_sipms(dxs, dys, s2photons)"
   ]
  },
  {
   "cell_type": "code",
   "execution_count": null,
   "metadata": {},
   "outputs": [],
   "source": [
    "def get_xybins():\n",
    "    def _bins(xxs):\n",
    "        xs = np.sort(xxs)\n",
    "        dx   = 0.5*(xs[1] - xs[0])\n",
    "        bins = np.append(xs - dx, xs[-1] + dx)\n",
    "        return bins\n",
    "    return _bins(detsimparams.x_sipms), _bins(detsimparams.y_sipms)   \n",
    "\n",
    "if (plot):\n",
    "    print('number of EL photons', np.sum(s2photons))\n",
    "    ht.hist(s2photons, 100); plt.xlabel('photons per electron');\n",
    "\n",
    "if (plot):\n",
    "    print('pes ', np.sum(pes_pmts, axis = 0))\n",
    "    ht.hist(pes_pmts, 100); plt.xlabel('pes at pmts')\n",
    "    \n",
    "if (plot):\n",
    "    print('pes ', np.sum(pes_sipms, axis = 0))\n",
    "    ht.hist(pes_sipms, 100); plt.xlabel('pes at pmts')\n",
    "    plt.figure();\n",
    "    xybins = get_xybins()\n",
    "    detsimparams.x_sipms[1] - detsimparams.x_sipms[0]\n",
    "    int_pes_sipms  = np.sum(pes_sipms, axis = 0)\n",
    "    plt.hist2d(detsimparams.x_sipms, detsimparams.y_sipms, bins = xybins, weights = int_pes_sipms);\n",
    "    plt.figure()\n",
    "    plt.hist2d(detsimparams.x_sipms, detsimparams.y_sipms, bins = xybins, weights = int_pes_sipms);\n",
    "    plt.xlim((np.min(dxs) - 20, np.max(dxs) + 20))\n",
    "    plt.ylim((np.min(dys) - 20, np.max(dys) + 20))"
   ]
  },
  {
   "cell_type": "code",
   "execution_count": null,
   "metadata": {},
   "outputs": [],
   "source": [
    "s1photons           = ds.generate_s1_photons(enes)\n",
    "pes_s1              = ds.estimate_s1_pes(xs, ys, zs, s1photons)"
   ]
  },
  {
   "cell_type": "code",
   "execution_count": null,
   "metadata": {},
   "outputs": [],
   "source": [
    "print('S1 photons ', np.sum(s1photons))\n",
    "if (plot):\n",
    "    print('pes ', np.sum(pes_s1, axis = 0))\n",
    "    ht.hist(pes_s1, 100); plt.xlabel('pes S1')"
   ]
  },
  {
   "cell_type": "code",
   "execution_count": null,
   "metadata": {},
   "outputs": [],
   "source": [
    "t0                  = ds.find_trigger_time(dts, pes_pmts)\n",
    "t0s                 = t0 * np.ones_like(zs)\n",
    "dts                 = t0 + dts"
   ]
  },
  {
   "cell_type": "code",
   "execution_count": null,
   "metadata": {},
   "outputs": [],
   "source": [
    "print('trigger time ', t0 / units.mus, np.min(dts)/ units.mus)"
   ]
  },
  {
   "cell_type": "code",
   "execution_count": null,
   "metadata": {},
   "outputs": [],
   "source": [
    "wfs_pmts            = np.zeros((npmts_bins, npmts), dtype = int)\n",
    "ds.fill_wfs_s1     (t0s, pes_s1  , wfs_pmts)\n",
    "ds.fill_wfs_s2_pmts(dts, pes_pmts, wfs_pmts);"
   ]
  },
  {
   "cell_type": "code",
   "execution_count": null,
   "metadata": {},
   "outputs": [],
   "source": [
    "times_pmts   = np.arange(npmts_bins) * detsimparams.wf_pmt_bin_time\n",
    "#print(times_pmts.shape, wfs_pmts.shape)\n",
    "if (plot):\n",
    "    xcenters = times_pmts\n",
    "    plt.plot(xcenters / units.mus, wfs_pmts); plt.xlabel('wfs pmts')\n",
    "    plt.figure()\n",
    "    plt.plot(xcenters / units.mus, wfs_pmts); plt.xlabel('wfs pmts')\n",
    "    plt.xlim((np.min(dts) /units.mus - 5, np.max(dts) / units.mus + 10));"
   ]
  },
  {
   "cell_type": "code",
   "execution_count": null,
   "metadata": {},
   "outputs": [],
   "source": [
    "wfs_sipms           = np.zeros((nsipms_bins, nsipms), dtype = int)\n",
    "ds.fill_wfs_s2_sipms(dts, pes_sipms, wfs_sipms);"
   ]
  },
  {
   "cell_type": "code",
   "execution_count": null,
   "metadata": {},
   "outputs": [],
   "source": [
    "times_sipms   = np.arange(nsipms_bins) * detsimparams.wf_sipm_bin_time\n",
    "if (plot):\n",
    "    xcenters = times_sipms\n",
    "    plt.plot(xcenters / units.mus, wfs_sipms); plt.xlabel('wfs sipms')\n",
    "    plt.xlim((np.min(dts) /units.mus - 5, np.max(dts) / units.mus + 10));"
   ]
  },
  {
   "cell_type": "code",
   "execution_count": null,
   "metadata": {},
   "outputs": [],
   "source": [
    "wfs_pmts            = wfs_pmts  * adc_to_pes_pmts\n",
    "sipms_pmts          = wfs_sipms * adc_to_pes_sipms"
   ]
  },
  {
   "cell_type": "code",
   "execution_count": null,
   "metadata": {},
   "outputs": [],
   "source": [
    "times_pmts   = np.arange(npmts_bins) * detsimparams.wf_pmt_bin_time\n",
    "#print(times_pmts.shape, wfs_pmts.shape)\n",
    "if (plot):\n",
    "    xcenters = times_pmts\n",
    "    plt.plot(xcenters / units.mus, wfs_pmts); plt.xlabel('wfs pmts')\n",
    "    plt.figure()\n",
    "    plt.plot(xcenters / units.mus, wfs_pmts); plt.xlabel('wfs pmts')\n",
    "    plt.xlim((np.min(dts) /units.mus - 5, np.max(dts) / units.mus + 10));"
   ]
  },
  {
   "cell_type": "code",
   "execution_count": null,
   "metadata": {},
   "outputs": [],
   "source": [
    "times_sipms   = np.arange(nsipms_bins) * detsimparams.wf_sipm_bin_time\n",
    "if (plot):\n",
    "    xcenters = times_sipms\n",
    "    plt.plot(xcenters / units.mus, wfs_sipms); plt.xlabel('wfs sipms')\n",
    "    plt.xlim((np.min(dts) /units.mus - 5, np.max(dts) / units.mus + 10));"
   ]
  },
  {
   "cell_type": "code",
   "execution_count": null,
   "metadata": {},
   "outputs": [],
   "source": [
    "## One go"
   ]
  },
  {
   "cell_type": "code",
   "execution_count": null,
   "metadata": {},
   "outputs": [],
   "source": [
    "def plot_wfs(wfs_pmts, wfs_sipms):\n",
    "    nbins  = int(detsimparams.wf_buffer_time / detsimparams.wf_pmt_bin_time)\n",
    "    times  = np.arange(nbins) * detsimparams.wf_pmt_bin_time\n",
    "    plt.figure()\n",
    "    plt.plot(times / units.mus, wfs_pmts); plt.xlabel('wfs pmts')\n",
    "    plt.figure()\n",
    "    plt.plot(times / units.mus, wfs_pmts); plt.xlabel('wfs pmts')\n",
    "    plt.xlim((np.min(dts) /units.mus - 5, np.max(dts) / units.mus + 10));\n",
    "\n",
    "    nbins  = int(detsimparams.wf_buffer_time / detsimparams.wf_sipm_bin_time)\n",
    "    times  = np.arange(nbins) * detsimparams.wf_sipm_bin_time\n",
    "    plt.figure()\n",
    "    plt.plot(times / units.mus, wfs_sipms); plt.xlabel('wfs sipms')\n",
    "    plt.figure()\n",
    "    plt.plot(times / units.mus, wfs_sipms); plt.xlabel('wfs sipms')\n",
    "    plt.xlim((np.min(dts) /units.mus - 5, np.max(dts) / units.mus + 10));"
   ]
  },
  {
   "cell_type": "code",
   "execution_count": null,
   "metadata": {},
   "outputs": [],
   "source": [
    "generate_wfs = ds.get_function_generate_wfs()\n",
    "wfs_pmts, wfs_sipms = generate_wfs(hits)\n",
    "if (plot): plot_wfs(wfs_pmts, wfs_sipms)"
   ]
  },
  {
   "cell_type": "markdown",
   "metadata": {},
   "source": [
    "## Timings"
   ]
  },
  {
   "cell_type": "code",
   "execution_count": null,
   "metadata": {},
   "outputs": [],
   "source": [
    "def time_to_simulate_one_event(hits, n = 1):\n",
    "    t0 = time.time()\n",
    "    for i in range(n):\n",
    "        generate_wfs(hits)\n",
    "    return (time.time() - t0) / n"
   ]
  },
  {
   "cell_type": "code",
   "execution_count": null,
   "metadata": {},
   "outputs": [],
   "source": [
    "dtsim = time_to_simulate_one_event(hits, n = 10)\n",
    "print('total ', dtsim, 's')"
   ]
  },
  {
   "cell_type": "code",
   "execution_count": null,
   "metadata": {},
   "outputs": [],
   "source": [
    "evt, hits = next(it)\n",
    "xs, ys, zs, enes = ds.get_deposits(hits)\n",
    "print('total energy', np.sum(enes) / units.keV, ' keV');\n",
    "ht.graph_event(xs, ys, zs, enes, scale = 1e4)\n",
    "dtsim = time_to_simulate_one_event(hits, n = 10)\n",
    "print('total ', dtsim, 's')"
   ]
  },
  {
   "cell_type": "code",
   "execution_count": null,
   "metadata": {},
   "outputs": [],
   "source": [
    "evt, hits = next(it)\n",
    "xs, ys, zs, enes = ds.get_deposits(hits)\n",
    "print('total energy', np.sum(enes) / units.keV, ' keV');\n",
    "ht.graph_event(xs, ys, zs, enes, scale = 1e4)\n",
    "dtsim = time_to_simulate_one_event(hits, n = 10)\n",
    "print('total ', dtsim, 's')"
   ]
  },
  {
   "cell_type": "code",
   "execution_count": null,
   "metadata": {},
   "outputs": [],
   "source": []
  }
 ],
 "metadata": {
  "kernelspec": {
   "display_name": "Python 3",
   "language": "python",
   "name": "python3"
  },
  "language_info": {
   "codemirror_mode": {
    "name": "ipython",
    "version": 3
   },
   "file_extension": ".py",
   "mimetype": "text/x-python",
   "name": "python",
   "nbconvert_exporter": "python",
   "pygments_lexer": "ipython3",
   "version": "3.7.3"
  }
 },
 "nbformat": 4,
 "nbformat_minor": 2
}
